{
 "cells": [
  {
   "cell_type": "code",
   "execution_count": 1,
   "id": "8ddae178-856c-4662-8bc3-8349a159796b",
   "metadata": {},
   "outputs": [],
   "source": [
    "import pandas as pd\n",
    "import random\n",
    "import os\n",
    "import numpy as np\n",
    "from pprint import pprint\n",
    "\n",
    "from sklearn.linear_model import LinearRegression\n",
    "from sklearn.multioutput import MultiOutputRegressor\n",
    "\n",
    "from sklearn.datasets import make_regression\n",
    "from sklearn.metrics import r2_score\n",
    "from sklearn.model_selection import train_test_split\n",
    "\n",
    "from autosklearn.regression import AutoSklearnRegressor\n",
    "\n",
    "import matplotlib.pyplot as plt\n",
    "\n"
   ]
  },
  {
   "cell_type": "code",
   "execution_count": 2,
   "id": "46fb1b51-c207-4dfb-a9fe-37ef9d931ef3",
   "metadata": {},
   "outputs": [],
   "source": [
    "def seed_everything(seed):\n",
    "    random.seed(seed)\n",
    "    os.environ['PYTHONHASHSEED'] = str(seed)\n",
    "    np.random.seed(seed)\n",
    "seed_everything(42) # Seed 고정"
   ]
  },
  {
   "cell_type": "markdown",
   "id": "0d0b090a-30da-4bb6-95cf-c8b53c683554",
   "metadata": {},
   "source": [
    "# Datalaoder"
   ]
  },
  {
   "cell_type": "code",
   "execution_count": 3,
   "id": "3d19f71b-4f25-481a-9d62-2bf3d17622f3",
   "metadata": {},
   "outputs": [],
   "source": [
    "train_df = pd.read_csv('./train.csv')\n",
    "\n",
    "train_x = train_df.filter(regex='X') # Input : X Featrue\n",
    "train_y = train_df.filter(regex='Y') # Output : Y Feature\n",
    "\n"
   ]
  },
  {
   "cell_type": "code",
   "execution_count": 11,
   "id": "66fa916c-e5f0-417d-992b-f46cef5a61ee",
   "metadata": {},
   "outputs": [],
   "source": [
    "X, y = make_regression(n_samples=1000, n_features=10, n_informative=5, n_targets=3)\n",
    "\n",
    "X_train, X_test, y_train, y_test = train_test_split(X, y, random_state=1)"
   ]
  },
  {
   "cell_type": "code",
   "execution_count": 18,
   "id": "73dd8d3d-ec77-4737-aa9c-78e2e87ac475",
   "metadata": {},
   "outputs": [
    {
     "data": {
      "text/plain": [
       "numpy.ndarray"
      ]
     },
     "execution_count": 18,
     "metadata": {},
     "output_type": "execute_result"
    }
   ],
   "source": [
    "type(X_train)"
   ]
  },
  {
   "cell_type": "code",
   "execution_count": 22,
   "id": "b95f5a3c-a481-4e41-baf7-2db12e523810",
   "metadata": {},
   "outputs": [
    {
     "data": {
      "text/plain": [
       "array([ 0.74419197, -0.35834015,  1.00751369, -0.18122417, -0.64754181,\n",
       "        1.419603  , -0.64937304, -1.86653995, -0.60042357,  1.32130403])"
      ]
     },
     "execution_count": 22,
     "metadata": {},
     "output_type": "execute_result"
    }
   ],
   "source": [
    "X_train[0]"
   ]
  },
  {
   "cell_type": "code",
   "execution_count": 23,
   "id": "c92abcba-45cf-4d3e-b8f3-bcb6a509569e",
   "metadata": {},
   "outputs": [],
   "source": [
    "train_x = train_x.to_numpy()"
   ]
  },
  {
   "cell_type": "code",
   "execution_count": 24,
   "id": "e1e495ab-4250-4170-8368-d6c8a2c395bc",
   "metadata": {},
   "outputs": [],
   "source": [
    "train_y = train_y.to_numpy()"
   ]
  },
  {
   "cell_type": "code",
   "execution_count": null,
   "id": "2e382316-1b78-437f-8fbb-12d0bdd3c24b",
   "metadata": {},
   "outputs": [],
   "source": []
  },
  {
   "cell_type": "code",
   "execution_count": null,
   "id": "cf996e35-42eb-4f2e-8061-0762e5fe2e99",
   "metadata": {},
   "outputs": [
    {
     "name": "stdout",
     "output_type": "stream",
     "text": [
      "[WARNING] [2022-08-14 23:21:10,469:Client-AutoMLSMBO(1)::57dd9a77-1bdc-11ed-954f-ad8fa52655a6] Could not find meta-data directory /home/jisu/anaconda3/envs/autosklearn/lib/python3.8/site-packages/autosklearn/metalearning/files/r2_multioutput.regression_dense\n"
     ]
    }
   ],
   "source": [
    "automl = AutoSklearnRegressor(\n",
    "    time_left_for_this_task=120,\n",
    "    per_run_time_limit=30,\n",
    "    #tmp_folder='/tmp/autosklearn_multioutput_regression_example_tmp',\n",
    ")\n",
    "automl.fit(train_x, train_y)"
   ]
  },
  {
   "cell_type": "code",
   "execution_count": null,
   "id": "0daa8316-9608-4c73-b7c0-36861f5a2249",
   "metadata": {},
   "outputs": [],
   "source": [
    "print(automl.leaderboard())\n"
   ]
  },
  {
   "cell_type": "code",
   "execution_count": null,
   "id": "45f81af6-8f06-43fd-bd9f-2beeb35aa7e9",
   "metadata": {},
   "outputs": [],
   "source": [
    "pprint(automl.show_models(), indent=4)\n"
   ]
  },
  {
   "cell_type": "code",
   "execution_count": null,
   "id": "47ea7813-94f0-4efc-a5d3-1f6866707f6f",
   "metadata": {},
   "outputs": [],
   "source": [
    "predictions = automl.predict(X_test)\n",
    "print(\"R2 score:\", r2_score(y_test, predictions))"
   ]
  },
  {
   "cell_type": "code",
   "execution_count": null,
   "id": "538cd166-8916-49ff-90bc-a6003c2f9154",
   "metadata": {},
   "outputs": [],
   "source": [
    "# The configuration space is reduced, i.e. no SVM.\n",
    "print(automl.get_configuration_space(X_train, y_train))"
   ]
  },
  {
   "cell_type": "code",
   "execution_count": null,
   "id": "483ad868-ab58-4c57-aa4c-1edecb3c6d40",
   "metadata": {},
   "outputs": [],
   "source": []
  },
  {
   "cell_type": "code",
   "execution_count": null,
   "id": "e15990c6-9095-418c-8ba8-5bcf30921eb2",
   "metadata": {},
   "outputs": [],
   "source": []
  },
  {
   "cell_type": "markdown",
   "id": "07589991-6afa-40c1-9b21-4fe9e2368b44",
   "metadata": {},
   "source": []
  },
  {
   "cell_type": "code",
   "execution_count": null,
   "id": "03e9ac59-53db-48eb-ac57-fea52777af2c",
   "metadata": {},
   "outputs": [],
   "source": [
    "preds = xgb.predict(test_x)\n",
    "\n"
   ]
  },
  {
   "cell_type": "code",
   "execution_count": null,
   "id": "3ffb54ff-21b2-4b6e-a65c-735776af9bad",
   "metadata": {},
   "outputs": [],
   "source": []
  }
 ],
 "metadata": {
  "kernelspec": {
   "display_name": "autosklearn",
   "language": "python",
   "name": "autosklearn"
  },
  "language_info": {
   "codemirror_mode": {
    "name": "ipython",
    "version": 3
   },
   "file_extension": ".py",
   "mimetype": "text/x-python",
   "name": "python",
   "nbconvert_exporter": "python",
   "pygments_lexer": "ipython3",
   "version": "3.8.13"
  }
 },
 "nbformat": 4,
 "nbformat_minor": 5
}
